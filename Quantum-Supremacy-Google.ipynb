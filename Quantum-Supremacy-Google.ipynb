{
 "cells": [
  {
   "cell_type": "markdown",
   "metadata": {},
   "source": [
    "## Quantum Supremacy - How did Google do it?\n",
    "\n",
    "### Summary:\n",
    "\n",
    "The purpose of this document is to gain insight into Google's recently published work in which they have claimed to achieve Quantum Supremacy [[1](https://www.nature.com/articles/19718.pdf)]. Google claims that the best classical computers today would take 10,000 years to solve the problem that their quantum computer took 200 seconds to solve. Their claim has been brought into question by IBM. IBM claims that classical computers can simulate the algorithm google used in 2.5 days [2](https://www.technologyreview.com/2019/10/22/132519/quantum-supremacy-from-google-not-so-fast-says-ibm/). Nonetheless, this is the first time that I am aware of any quantum computer performing substantially faster than its classical counterpart. \n",
    "\n",
    "I am going to break down Google's set up to the best of my understanding. However, I do not have experience in the subject so inevitably I won't be able to understand all of the intricacies of the project. \n",
    "\n",
    "To begin the project can be broken up into two main categories, **the algorithm**, and **the hardware**."
   ]
  },
  {
   "cell_type": "markdown",
   "metadata": {},
   "source": [
    "- <h3> Software, The Algorithm </h3>\n",
    "\n",
    "The algorithm in question was developed specifically to be hard on classical computers and 'easy' on quantum computers. The task at hand is to sample the output of a pseudo-random quantum circuit. Classically, a random random circuit would be simply choosing a logic gate from a set of random logic gate (AND, OR, XOR, NAND, etc) and combining these logic gate together to create a more complex logic gate. This process ca be repeated until a sufficiently complex circuit is achieved. Given an initial state, we can calculate the output of our random circuit to obtain a bit-string. The quantum analogous simply used quantum logic gates instead of classical ones.\n",
    "\n",
    "The circuit is designed by repeatedly performing single and two-qubit operations. The output of the circuit is a bit-string. These bit-strings follow a almost random distribution. The distribution can be calculated on a classical computer by simulating these quantum gates. For a classical machine the cost of computing this distribution is exponential in the the number of qubits. \n",
    "\n",
    "Right now, qubits can be thought of as a two-level quantum system. The qubit is in some superposition of the two states. This system can be manipulated via some means that changes the probability that the system is in a given state of the system (the superposition). \n",
    "\n",
    "The simplest gate might be the NOT gate which can be represented by \n",
    "\n",
    "$$ \\begin{bmatrix} \n",
    "0 & 1 \\\\ 1 & 0\n",
    "\\end{bmatrix} $$\n",
    "\n",
    "To show this take,\n",
    "\n",
    "$$ \n",
    "\\begin{bmatrix} 0 & 1 \\\\ 1 & 0 \\end{bmatrix}  \n",
    "\\cdot \n",
    "\\alpha \n",
    "\\begin{bmatrix}  1 \\\\ 0 \\end{bmatrix}\n",
    "=\n",
    "\\alpha \\begin{bmatrix}  0 \\\\ 1 \\end{bmatrix}\n",
    "$$\n",
    "\n",
    "Where our two states are represented by, $\\begin{bmatrix}  1 \\\\ 0 \\end{bmatrix}$ and $\\begin{bmatrix}  0 \\\\ 1 \\end{bmatrix}$\n",
    "\n",
    "A list of many common gates is shown below. This list helps get a good idea of some gates that could be used in making a quantum operation.\n",
    "\n",
    "To run the quantum circuits a series of operations are taken. Single Qubit operations take 25ns while two-qubit operations take 12ns. \n",
    "\n",
    "- <h3> Hardware, The Sycamore Processor </h3>\n",
    "\n",
    "Google created a processor named **'Sycamore'** that has 54 qubits (53 working qubits). The qubits were arranged in a lattice so that so that each qubit connects to four neighboring qubits as shown in the figure below.\n",
    "\n",
    "<img src= https://raw.githubusercontent.com/DillyPickly/quantum-supremacy/master/images/sycamore-processor-diagram.png width = 400>\n",
    "\n",
    "<h4> Controlling the Qubits</h4>\n",
    "\n",
    "The processor uses **transmon qubits** (can be thought of as a non-linear superconducting resonator (5-7 Ghz)). The two lowest states of the resonator encode the qubit. Each transmon qubit is controlled via a microwave drive to excite the qubit and magnetic flux to control the frequency of the resonator. A linear resonator is used read out the state of each qubit. The Qubit is connected to its neighbors using a coupler. The couplers connecting the qubits go from 0-40 MHz\n",
    "\n",
    "The physical hardware is made with \n",
    "\"aluminium for metallization and Josephson junctions, and indium for bump-bonds between two silicon wafers. The chip is wire-bonded to a superconducting circuit board and cooled to below 20 mK in a dilution refrigerator to reduce ambient thermal energy to well below the qubit energy. The processor is connected through filters and attenuators to room-temperature electronics, which synthesize the control signals. The state of all qubits can be read simultaneously by using a frequency-multiplexing technique\"\n",
    "\n",
    "\n",
    "<h4> Transmon Qubits </h4>\n",
    "\n",
    "Transmon Qubit stands for  **transmission line shunted plasma oscillation qubits** \n",
    "\n",
    "\n",
    "From the paper that describes **transmon** qubits, \"it is closely related to the Cooper pair box 共CPB兲\n",
    "qubit in Ref. However, the transmon is operated at a\n",
    "significantly different ratio of Josephson energy to charging energy.\"\n",
    "\n"
   ]
  },
  {
   "cell_type": "markdown",
   "metadata": {},
   "source": [
    "**Josephson Charge Qubit**\n",
    "\n",
    "Firstly, a Josephson junction consists of an insulator sandwiched in between superconducting layers. The Josephson junctions exhibits some interesting properties, mainly cooper pairs can tunnel through the insulator as if the insulator is not there at all. These pairs will tunnel through the insulating layer even when no voltage is applied. However, if the current exceeds a critical current the voltage begins to oscillate in time. \n",
    "\n",
    "In the diagram below, you can see a simple Josephson charge qubit. The Josephson Junction is labeled in red with the insulator in blue.  The bottom portion of the superconductor is said to have $n$ excess copper pairs relative to some neutral reference state. The junction has some capacitance $C_J$ and some coupling energy across the junction $E_J$ (this depends on the critical current). The system is regulated by a voltage, $V_g$ and capacitance $C_g$. \n",
    "\n",
    "We can use the formula for the energy stored in a capacitor. $$ E = \\frac{1}{2} \\frac{Q^2}{C} $$ \n",
    "\n",
    "When an electron moves across the insulator barrier, we can say the energy stored, $$ E_C = \\frac{1}{2} \\frac{e^2}{(C_g + C_J)} $$\n",
    "\n",
    "In a super conductor, Cooper pairs form from the attraction of electron pairs these electron pairs sink into a lower state the system is set up in a way that this energy difference between the superconducting state and the next highest state is the larger than all other energy levels in the system. This means assuming the super conducting island full of cooper pairs and no excitations exist (as long as there are an even number of electrons). \n",
    "\n",
    "We can write the Hamiltonian down as $$ E = 4 E_C (n - n_g)^2 - E_J cos{\\Theta} $$\n",
    "\n",
    "This Hamiltonian is the right portion of the Hamiltonian deals with the Josephson Coupling Energy, in other words the right portion describes the energy cost for cooper pairs flowing over the insulator barrier. The left portion meanwhile deals with the electron charging energy due to the excess cooper pairs on the island. Notice that we can control $n_g \\equiv \\frac{C_g V_g}{2e} $\n",
    "\n",
    "The system is question has $ E_C \\gg E_J $. That is, the electron charging energy dominates the Hamiltonian. So it is of interest to investigate how $E_C$ changed. \n",
    "\n",
    "The Hamiltonian can be rewritten using the number of cooper pairs as the basis. \n",
    "\n",
    "Notice in the diagram above at $n_g = 1/2$ the system can oscilate between $n=0$ and $n=1$. Now, we effectively have a 2-Qubit system. And now the Josephson Energy does play a role. \n",
    "\n",
    "This two level system can be manipulated with magnetic field. However, the qubits can also be manipulated with resonant pulses at a frequency close to the qubit's level frequency. \n",
    "\n",
    "To make two-qubit gate we can connect the quebits with in parallel in an LC circuit configuration as seen below. There are many ways of connecting qubits to make two-qubit gate, Google uses a coupler between the qubits. \n"
   ]
  },
  {
   "cell_type": "markdown",
   "metadata": {},
   "source": [
    "In conclusion, this inspiring first step may lead to many advances that one day bring quantum computing to the whole world. For that to happen many technological advances need to occur. For one, I did not touch on decoherence at all. One of the biggest struggles in quantum computing is making sure that the quantum system does not interact with its surrounding. Any leak can invalidate the quantum state. This coherence time only allows computations to be made on the order of tens of microseconds [[](https://en.wikipedia.org/wiki/Transmon)]. This and many other noise sources lead to high error rates in quantum bits. The main driver of functional quantum computers will be minimizing quantum errors. Google's work provides an insightful step into the future."
   ]
  },
  {
   "cell_type": "markdown",
   "metadata": {},
   "source": [
    "- What are Josephson junctions? \n",
    "\n",
    "https://www.scientificamerican.com/article/what-are-josephson-juncti/\n",
    "\n",
    "- Coherent control of macroscopic quantum states in a single-Cooper-pair box\n",
    "\n",
    "https://www.nature.com/articles/19718.pdf\n",
    "\n",
    "- Charge-insensitive qubit design derived from the Cooper pair box \n",
    "\n",
    "https://journals.aps.org/pra/abstract/10.1103/PhysRevA.76.042319\n",
    "\n",
    "- more on the Cooper pair box Qubit \n",
    "\n",
    "https://arxiv.org/pdf/cond-mat/0011269.pdf | see **II. Josephson Charge Qubit**\n",
    "\n",
    "- common quantum logic gates\n",
    "\n",
    "By Rxtreme - Own work, CC BY-SA 4.0, https://commons.wikimedia.org/w/index.php?curid=84768061"
   ]
  },
  {
   "cell_type": "code",
   "execution_count": null,
   "metadata": {},
   "outputs": [],
   "source": []
  }
 ],
 "metadata": {
  "kernelspec": {
   "display_name": "Python 3",
   "language": "python",
   "name": "python3"
  },
  "language_info": {
   "codemirror_mode": {
    "name": "ipython",
    "version": 3
   },
   "file_extension": ".py",
   "mimetype": "text/x-python",
   "name": "python",
   "nbconvert_exporter": "python",
   "pygments_lexer": "ipython3",
   "version": "3.7.4"
  }
 },
 "nbformat": 4,
 "nbformat_minor": 2
}
