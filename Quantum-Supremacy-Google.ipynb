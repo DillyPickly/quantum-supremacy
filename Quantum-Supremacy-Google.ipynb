{
 "cells": [
  {
   "cell_type": "markdown",
   "metadata": {},
   "source": [
    "## Quantum Supremacy\n",
    "### How Google did it.\n",
    "\n",
    "#### Summary:\n",
    "\n",
    "The purpose of this document is to gain insight into Google's recently published work in which they have claimed to achieve Quantum Supremacy. Their claim has been brought into question by IBM, but achieve is still impressive nonetheless. IBM claims that classical computers can simulate the algorithm in 3 days, that Google said would take 10,000 years to simulate. \n",
    "\n",
    "I am going to break down Google's set up to the best of my understanding. However, I do not have experience in the subject so inevitably I won't be able to understand all of the intricacies of the project\n",
    "\n",
    "To begin the project can be broken up into two main categories, **the algorithm**, and **the hardware**.\n",
    "\n",
    "- <h3> The Algorithm </h3>\n",
    "\n",
    "The algorithm was created with the purpose of...\n",
    "\n",
    "- <h3> The Hardware </h3>\n",
    "\n",
    "Google created a processor named 'Sycamore' that has 54 qubits (53 working qubits). The qubits were arranged in a lattice so that so that each qubit is connects to four neighboring qubits. \n",
    "\n",
    "![processor-lattice]()\n",
    "\n",
    "\n",
    "\n",
    "    "
   ]
  },
  {
   "cell_type": "code",
   "execution_count": null,
   "metadata": {},
   "outputs": [],
   "source": []
  }
 ],
 "metadata": {
  "kernelspec": {
   "display_name": "Python 3",
   "language": "python",
   "name": "python3"
  },
  "language_info": {
   "codemirror_mode": {
    "name": "ipython",
    "version": 3
   },
   "file_extension": ".py",
   "mimetype": "text/x-python",
   "name": "python",
   "nbconvert_exporter": "python",
   "pygments_lexer": "ipython3",
   "version": "3.7.4"
  }
 },
 "nbformat": 4,
 "nbformat_minor": 2
}
